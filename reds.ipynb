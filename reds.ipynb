{
 "cells": [
  {
   "cell_type": "code",
   "execution_count": 1,
   "metadata": {},
   "outputs": [],
   "source": [
    "import h5py \n",
    "import numpy as np\n",
    "import pandas as pd\n",
    "from collections import Counter\n",
    "from sklearn.linear_model import Perceptron\n",
    "from sklearn.neighbors import KNeighborsClassifier\n",
    "from sklearn.model_selection import GridSearchCV, StratifiedKFold, KFold"
   ]
  },
  {
   "cell_type": "markdown",
   "metadata": {},
   "source": [
    "# Extract Data"
   ]
  },
  {
   "cell_type": "code",
   "execution_count": 2,
   "metadata": {},
   "outputs": [
    {
     "data": {
      "text/plain": [
       "<KeysViewHDF5 ['Predictors', 'Target', 'User']>"
      ]
     },
     "execution_count": 2,
     "metadata": {},
     "output_type": "execute_result"
    }
   ],
   "source": [
    "f = h5py.File('SG24_dataset.h5', 'r')\n",
    "f.keys()"
   ]
  },
  {
   "cell_type": "code",
   "execution_count": 3,
   "metadata": {},
   "outputs": [
    {
     "name": "stdout",
     "output_type": "stream",
     "text": [
      "(2400, 29)\n",
      "(2400,)\n",
      "(2400, 1)\n"
     ]
    }
   ],
   "source": [
    "tmp = f['Predictors']\n",
    "predictors = np.zeros(tmp.shape)\n",
    "tmp.read_direct(predictors)\n",
    "predictors = predictors.T\n",
    "\n",
    "tmp = f['Target']\n",
    "target = np.zeros(tmp.shape)\n",
    "tmp.read_direct(target)\n",
    "target = target[0]\n",
    "\n",
    "tmp = f['User']\n",
    "user = np.zeros(tmp.shape)\n",
    "tmp.read_direct(user)\n",
    "user = user.T\n",
    "\n",
    "print(predictors.shape)\n",
    "print(target.shape)\n",
    "print(user.shape)"
   ]
  },
  {
   "cell_type": "markdown",
   "metadata": {},
   "source": [
    "# Simple Describe"
   ]
  },
  {
   "cell_type": "code",
   "execution_count": 5,
   "metadata": {
    "scrolled": true
   },
   "outputs": [
    {
     "data": {
      "text/html": [
       "<div>\n",
       "<style scoped>\n",
       "    .dataframe tbody tr th:only-of-type {\n",
       "        vertical-align: middle;\n",
       "    }\n",
       "\n",
       "    .dataframe tbody tr th {\n",
       "        vertical-align: top;\n",
       "    }\n",
       "\n",
       "    .dataframe thead th {\n",
       "        text-align: right;\n",
       "    }\n",
       "</style>\n",
       "<table border=\"1\" class=\"dataframe\">\n",
       "  <thead>\n",
       "    <tr style=\"text-align: right;\">\n",
       "      <th></th>\n",
       "      <th>0</th>\n",
       "      <th>1</th>\n",
       "      <th>2</th>\n",
       "      <th>3</th>\n",
       "      <th>4</th>\n",
       "      <th>5</th>\n",
       "      <th>6</th>\n",
       "      <th>7</th>\n",
       "      <th>8</th>\n",
       "      <th>9</th>\n",
       "      <th>...</th>\n",
       "      <th>19</th>\n",
       "      <th>20</th>\n",
       "      <th>21</th>\n",
       "      <th>22</th>\n",
       "      <th>23</th>\n",
       "      <th>24</th>\n",
       "      <th>25</th>\n",
       "      <th>26</th>\n",
       "      <th>27</th>\n",
       "      <th>28</th>\n",
       "    </tr>\n",
       "  </thead>\n",
       "  <tbody>\n",
       "    <tr>\n",
       "      <th>count</th>\n",
       "      <td>2400.000000</td>\n",
       "      <td>2400.000000</td>\n",
       "      <td>2400.000000</td>\n",
       "      <td>2400.000000</td>\n",
       "      <td>2400.000000</td>\n",
       "      <td>2400.000000</td>\n",
       "      <td>2400.000000</td>\n",
       "      <td>2400.000000</td>\n",
       "      <td>2400.000000</td>\n",
       "      <td>2400.000000</td>\n",
       "      <td>...</td>\n",
       "      <td>2400.000000</td>\n",
       "      <td>2400.000000</td>\n",
       "      <td>2400.000000</td>\n",
       "      <td>2400.000000</td>\n",
       "      <td>2400.000000</td>\n",
       "      <td>2400.000000</td>\n",
       "      <td>2400.000000</td>\n",
       "      <td>2400.000000</td>\n",
       "      <td>2400.000000</td>\n",
       "      <td>2400.000000</td>\n",
       "    </tr>\n",
       "    <tr>\n",
       "      <th>mean</th>\n",
       "      <td>53.669293</td>\n",
       "      <td>-5.698329</td>\n",
       "      <td>0.203902</td>\n",
       "      <td>0.491011</td>\n",
       "      <td>-0.140472</td>\n",
       "      <td>0.164828</td>\n",
       "      <td>-0.149610</td>\n",
       "      <td>129.851667</td>\n",
       "      <td>137.503750</td>\n",
       "      <td>145.390833</td>\n",
       "      <td>...</td>\n",
       "      <td>110.054167</td>\n",
       "      <td>82.854167</td>\n",
       "      <td>103.005417</td>\n",
       "      <td>91.606667</td>\n",
       "      <td>143.834167</td>\n",
       "      <td>109.237083</td>\n",
       "      <td>120.668750</td>\n",
       "      <td>82.562500</td>\n",
       "      <td>137.099167</td>\n",
       "      <td>83.047500</td>\n",
       "    </tr>\n",
       "    <tr>\n",
       "      <th>std</th>\n",
       "      <td>41.520634</td>\n",
       "      <td>32.720964</td>\n",
       "      <td>22.393903</td>\n",
       "      <td>0.249192</td>\n",
       "      <td>0.281654</td>\n",
       "      <td>0.690302</td>\n",
       "      <td>0.268272</td>\n",
       "      <td>32.298842</td>\n",
       "      <td>15.895186</td>\n",
       "      <td>31.776834</td>\n",
       "      <td>...</td>\n",
       "      <td>46.031646</td>\n",
       "      <td>20.323427</td>\n",
       "      <td>45.260604</td>\n",
       "      <td>22.685341</td>\n",
       "      <td>53.253552</td>\n",
       "      <td>17.291823</td>\n",
       "      <td>29.802893</td>\n",
       "      <td>48.056139</td>\n",
       "      <td>21.926745</td>\n",
       "      <td>30.394479</td>\n",
       "    </tr>\n",
       "    <tr>\n",
       "      <th>min</th>\n",
       "      <td>0.000000</td>\n",
       "      <td>-81.559349</td>\n",
       "      <td>-68.739662</td>\n",
       "      <td>0.000000</td>\n",
       "      <td>-0.855817</td>\n",
       "      <td>-1.000000</td>\n",
       "      <td>-0.789427</td>\n",
       "      <td>1.000000</td>\n",
       "      <td>44.000000</td>\n",
       "      <td>36.000000</td>\n",
       "      <td>...</td>\n",
       "      <td>0.000000</td>\n",
       "      <td>1.000000</td>\n",
       "      <td>1.000000</td>\n",
       "      <td>25.000000</td>\n",
       "      <td>0.000000</td>\n",
       "      <td>1.000000</td>\n",
       "      <td>1.000000</td>\n",
       "      <td>1.000000</td>\n",
       "      <td>0.000000</td>\n",
       "      <td>0.000000</td>\n",
       "    </tr>\n",
       "    <tr>\n",
       "      <th>25%</th>\n",
       "      <td>0.000000</td>\n",
       "      <td>-26.450032</td>\n",
       "      <td>-15.801244</td>\n",
       "      <td>0.314152</td>\n",
       "      <td>-0.387735</td>\n",
       "      <td>-0.846747</td>\n",
       "      <td>-0.360048</td>\n",
       "      <td>122.000000</td>\n",
       "      <td>128.000000</td>\n",
       "      <td>121.750000</td>\n",
       "      <td>...</td>\n",
       "      <td>63.000000</td>\n",
       "      <td>71.000000</td>\n",
       "      <td>79.000000</td>\n",
       "      <td>75.000000</td>\n",
       "      <td>92.000000</td>\n",
       "      <td>105.000000</td>\n",
       "      <td>104.000000</td>\n",
       "      <td>49.000000</td>\n",
       "      <td>131.000000</td>\n",
       "      <td>64.000000</td>\n",
       "    </tr>\n",
       "    <tr>\n",
       "      <th>50%</th>\n",
       "      <td>70.621365</td>\n",
       "      <td>0.000000</td>\n",
       "      <td>0.000000</td>\n",
       "      <td>0.555695</td>\n",
       "      <td>0.000000</td>\n",
       "      <td>0.471377</td>\n",
       "      <td>-0.062433</td>\n",
       "      <td>128.000000</td>\n",
       "      <td>135.000000</td>\n",
       "      <td>152.000000</td>\n",
       "      <td>...</td>\n",
       "      <td>132.000000</td>\n",
       "      <td>81.000000</td>\n",
       "      <td>114.000000</td>\n",
       "      <td>92.000000</td>\n",
       "      <td>159.000000</td>\n",
       "      <td>106.000000</td>\n",
       "      <td>126.000000</td>\n",
       "      <td>86.000000</td>\n",
       "      <td>141.000000</td>\n",
       "      <td>78.000000</td>\n",
       "    </tr>\n",
       "    <tr>\n",
       "      <th>75%</th>\n",
       "      <td>84.528341</td>\n",
       "      <td>0.000000</td>\n",
       "      <td>17.166466</td>\n",
       "      <td>0.691598</td>\n",
       "      <td>0.000000</td>\n",
       "      <td>0.629917</td>\n",
       "      <td>0.000000</td>\n",
       "      <td>134.000000</td>\n",
       "      <td>143.000000</td>\n",
       "      <td>170.000000</td>\n",
       "      <td>...</td>\n",
       "      <td>151.000000</td>\n",
       "      <td>93.000000</td>\n",
       "      <td>134.000000</td>\n",
       "      <td>111.000000</td>\n",
       "      <td>192.000000</td>\n",
       "      <td>107.000000</td>\n",
       "      <td>142.000000</td>\n",
       "      <td>116.000000</td>\n",
       "      <td>149.000000</td>\n",
       "      <td>101.000000</td>\n",
       "    </tr>\n",
       "    <tr>\n",
       "      <th>max</th>\n",
       "      <td>127.721718</td>\n",
       "      <td>78.185921</td>\n",
       "      <td>59.903419</td>\n",
       "      <td>0.955188</td>\n",
       "      <td>0.727471</td>\n",
       "      <td>1.000000</td>\n",
       "      <td>0.782390</td>\n",
       "      <td>238.000000</td>\n",
       "      <td>206.000000</td>\n",
       "      <td>207.000000</td>\n",
       "      <td>...</td>\n",
       "      <td>179.000000</td>\n",
       "      <td>170.000000</td>\n",
       "      <td>218.000000</td>\n",
       "      <td>229.000000</td>\n",
       "      <td>248.000000</td>\n",
       "      <td>255.000000</td>\n",
       "      <td>189.000000</td>\n",
       "      <td>216.000000</td>\n",
       "      <td>192.000000</td>\n",
       "      <td>193.000000</td>\n",
       "    </tr>\n",
       "  </tbody>\n",
       "</table>\n",
       "<p>8 rows × 29 columns</p>\n",
       "</div>"
      ],
      "text/plain": [
       "                0            1            2            3            4   \\\n",
       "count  2400.000000  2400.000000  2400.000000  2400.000000  2400.000000   \n",
       "mean     53.669293    -5.698329     0.203902     0.491011    -0.140472   \n",
       "std      41.520634    32.720964    22.393903     0.249192     0.281654   \n",
       "min       0.000000   -81.559349   -68.739662     0.000000    -0.855817   \n",
       "25%       0.000000   -26.450032   -15.801244     0.314152    -0.387735   \n",
       "50%      70.621365     0.000000     0.000000     0.555695     0.000000   \n",
       "75%      84.528341     0.000000    17.166466     0.691598     0.000000   \n",
       "max     127.721718    78.185921    59.903419     0.955188     0.727471   \n",
       "\n",
       "                5            6            7            8            9   ...  \\\n",
       "count  2400.000000  2400.000000  2400.000000  2400.000000  2400.000000  ...   \n",
       "mean      0.164828    -0.149610   129.851667   137.503750   145.390833  ...   \n",
       "std       0.690302     0.268272    32.298842    15.895186    31.776834  ...   \n",
       "min      -1.000000    -0.789427     1.000000    44.000000    36.000000  ...   \n",
       "25%      -0.846747    -0.360048   122.000000   128.000000   121.750000  ...   \n",
       "50%       0.471377    -0.062433   128.000000   135.000000   152.000000  ...   \n",
       "75%       0.629917     0.000000   134.000000   143.000000   170.000000  ...   \n",
       "max       1.000000     0.782390   238.000000   206.000000   207.000000  ...   \n",
       "\n",
       "                19           20           21           22           23  \\\n",
       "count  2400.000000  2400.000000  2400.000000  2400.000000  2400.000000   \n",
       "mean    110.054167    82.854167   103.005417    91.606667   143.834167   \n",
       "std      46.031646    20.323427    45.260604    22.685341    53.253552   \n",
       "min       0.000000     1.000000     1.000000    25.000000     0.000000   \n",
       "25%      63.000000    71.000000    79.000000    75.000000    92.000000   \n",
       "50%     132.000000    81.000000   114.000000    92.000000   159.000000   \n",
       "75%     151.000000    93.000000   134.000000   111.000000   192.000000   \n",
       "max     179.000000   170.000000   218.000000   229.000000   248.000000   \n",
       "\n",
       "                24           25           26           27           28  \n",
       "count  2400.000000  2400.000000  2400.000000  2400.000000  2400.000000  \n",
       "mean    109.237083   120.668750    82.562500   137.099167    83.047500  \n",
       "std      17.291823    29.802893    48.056139    21.926745    30.394479  \n",
       "min       1.000000     1.000000     1.000000     0.000000     0.000000  \n",
       "25%     105.000000   104.000000    49.000000   131.000000    64.000000  \n",
       "50%     106.000000   126.000000    86.000000   141.000000    78.000000  \n",
       "75%     107.000000   142.000000   116.000000   149.000000   101.000000  \n",
       "max     255.000000   189.000000   216.000000   192.000000   193.000000  \n",
       "\n",
       "[8 rows x 29 columns]"
      ]
     },
     "execution_count": 5,
     "metadata": {},
     "output_type": "execute_result"
    }
   ],
   "source": [
    "pd.DataFrame(predictors).describe()"
   ]
  },
  {
   "cell_type": "code",
   "execution_count": 24,
   "metadata": {
    "scrolled": true
   },
   "outputs": [
    {
     "data": {
      "text/plain": [
       "Counter({1.0: 100,\n",
       "         2.0: 100,\n",
       "         3.0: 100,\n",
       "         4.0: 100,\n",
       "         5.0: 100,\n",
       "         6.0: 100,\n",
       "         7.0: 100,\n",
       "         8.0: 100,\n",
       "         9.0: 100,\n",
       "         10.0: 100,\n",
       "         11.0: 100,\n",
       "         12.0: 100,\n",
       "         13.0: 100,\n",
       "         14.0: 100,\n",
       "         15.0: 100,\n",
       "         16.0: 100,\n",
       "         17.0: 100,\n",
       "         18.0: 100,\n",
       "         19.0: 100,\n",
       "         20.0: 100,\n",
       "         21.0: 100,\n",
       "         22.0: 100,\n",
       "         23.0: 100,\n",
       "         24.0: 100})"
      ]
     },
     "execution_count": 24,
     "metadata": {},
     "output_type": "execute_result"
    }
   ],
   "source": [
    "Counter(list(target))"
   ]
  },
  {
   "cell_type": "code",
   "execution_count": 25,
   "metadata": {
    "scrolled": true
   },
   "outputs": [
    {
     "data": {
      "text/plain": [
       "Counter({1.0: 600,\n",
       "         2.0: 600,\n",
       "         3.0: 360,\n",
       "         4.0: 240,\n",
       "         5.0: 240,\n",
       "         6.0: 120,\n",
       "         7.0: 120,\n",
       "         8.0: 120})"
      ]
     },
     "execution_count": 25,
     "metadata": {},
     "output_type": "execute_result"
    }
   ],
   "source": [
    "Counter(list(user.T[0]))"
   ]
  },
  {
   "cell_type": "markdown",
   "metadata": {},
   "source": [
    "# Choix des modèles et des hyper paramètres à tester"
   ]
  },
  {
   "cell_type": "code",
   "execution_count": 6,
   "metadata": {},
   "outputs": [],
   "source": [
    "# List of models with hyper parameter to test\n",
    "models = []\n",
    "\n",
    "# Perceptron\n",
    "percep = Perceptron()\n",
    "percep_params = {'alpha' : [0.001, 0.0001]}\n",
    "models.append((percep, percep_params))\n",
    "\n",
    "# Knn\n",
    "knn = KNeighborsClassifier()\n",
    "knn_params = {'n_neighbors':[3, 5]}\n",
    "models.append((knn, knn_params))"
   ]
  },
  {
   "cell_type": "markdown",
   "metadata": {},
   "source": [
    "# Decoupage en folds"
   ]
  },
  {
   "cell_type": "code",
   "execution_count": 7,
   "metadata": {},
   "outputs": [],
   "source": [
    "#kfold = KFold(n_splits=5, shuffle=True)\n",
    "kfold = StratifiedKFold(n_splits=5, shuffle=True) #Choose statified Kfold"
   ]
  },
  {
   "cell_type": "markdown",
   "metadata": {},
   "source": [
    "# Application des gridSearchs et Récupérations du meilleur modèle"
   ]
  },
  {
   "cell_type": "code",
   "execution_count": 8,
   "metadata": {},
   "outputs": [],
   "source": [
    "bestModel = None\n",
    "bestScore = -np.inf\n",
    "\n",
    "for model, params in models:\n",
    "    currentBest = GridSearchCV(model, params, cv=kfold)\n",
    "    currentBest.fit(predictors, target)\n",
    "    \n",
    "    if(currentBest.best_score_>bestScore):\n",
    "        bestScore = currentBest.best_score_\n",
    "        bestModel = currentBest.best_estimator_"
   ]
  },
  {
   "cell_type": "markdown",
   "metadata": {},
   "source": [
    "# Utilisation du meilleur estimator"
   ]
  },
  {
   "cell_type": "code",
   "execution_count": 11,
   "metadata": {},
   "outputs": [
    {
     "data": {
      "text/plain": [
       "KNeighborsClassifier(n_neighbors=3)"
      ]
     },
     "execution_count": 11,
     "metadata": {},
     "output_type": "execute_result"
    }
   ],
   "source": [
    "bestModel.fit(predictors, target)# Train the best model & hyper parameters with all available data (TO CONFIRM)"
   ]
  },
  {
   "cell_type": "code",
   "execution_count": 12,
   "metadata": {},
   "outputs": [
    {
     "data": {
      "text/plain": [
       "array([ 1.,  1.,  1., ...,  5., 24.,  7.])"
      ]
     },
     "execution_count": 12,
     "metadata": {},
     "output_type": "execute_result"
    }
   ],
   "source": [
    "bestModel.predict(predictors) #Test sur les données d'apprentissage"
   ]
  }
 ],
 "metadata": {
  "kernelspec": {
   "display_name": "Python 3",
   "language": "python",
   "name": "python3"
  },
  "language_info": {
   "codemirror_mode": {
    "name": "ipython",
    "version": 3
   },
   "file_extension": ".py",
   "mimetype": "text/x-python",
   "name": "python",
   "nbconvert_exporter": "python",
   "pygments_lexer": "ipython3",
   "version": "3.8.3"
  }
 },
 "nbformat": 4,
 "nbformat_minor": 4
}
